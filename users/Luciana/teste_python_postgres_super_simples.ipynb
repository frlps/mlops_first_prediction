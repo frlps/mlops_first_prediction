{
 "cells": [
  {
   "cell_type": "code",
   "execution_count": 8,
   "metadata": {},
   "outputs": [
    {
     "name": "stdout",
     "output_type": "stream",
     "text": [
      "Requirement already satisfied: psycopg2 in c:\\users\\lmoraes\\anaconda3\\lib\\site-packages (2.9.1)\n",
      "Note: you may need to restart the kernel to use updated packages.\n"
     ]
    }
   ],
   "source": [
    " #pip install psycopg2"
   ]
  },
  {
   "cell_type": "code",
   "execution_count": null,
   "metadata": {},
   "outputs": [],
   "source": [
    "# artigo\n",
    "#https://pynative.com/python-postgresql-tutorial/#h-python-example-to-connect-postgresql-database"
   ]
  },
  {
   "cell_type": "code",
   "execution_count": 19,
   "metadata": {},
   "outputs": [],
   "source": [
    "import psycopg2\n",
    "from psycopg2 import Error"
   ]
  },
  {
   "cell_type": "code",
   "execution_count": 20,
   "metadata": {},
   "outputs": [
    {
     "name": "stdout",
     "output_type": "stream",
     "text": [
      "PostgreSQL server information\n",
      "{'user': 'postgres', 'channel_binding': 'prefer', 'dbname': 'teste', 'host': 'localhost', 'port': '5432', 'tty': '', 'options': '', 'sslmode': 'prefer', 'sslcompression': '0', 'ssl_min_protocol_version': 'TLSv1.2', 'gssencmode': 'disable', 'krbsrvname': 'postgres', 'target_session_attrs': 'any'} \n",
      "\n",
      "Error while connecting to PostgreSQL syntax error at or near \"'Livro'\"\n",
      "LINE 1: SELECT codigo, nome, tipo FROM public.'Livro';\n",
      "                                              ^\n",
      "\n",
      "PostgreSQL connection is closed\n"
     ]
    }
   ],
   "source": [
    "try:\n",
    "    # Connect to an existing database\n",
    "    connection = psycopg2.connect(user=\"postgres\",\n",
    "                                  password=\"SIAdb173\",\n",
    "                                  host=\"localhost\",\n",
    "                                  port=\"5432\",\n",
    "                                  database=\"teste\")\n",
    "\n",
    "    # Create a cursor to perform database operations\n",
    "    cursor = connection.cursor()\n",
    "    # Print PostgreSQL details\n",
    "    print(\"PostgreSQL server information\")\n",
    "    print(connection.get_dsn_parameters(), \"\\n\")\n",
    "    # Executing a SQL query\n",
    "    cursor.execute(\"SELECT version();\")\n",
    "    # Fetch result\n",
    "    record = cursor.fetchone()\n",
    "    print(\"You are connected to - \", record, \"\\n\")\n",
    "\n",
    "except (Exception, Error) as error:\n",
    "    print(\"Error while connecting to PostgreSQL\", error)\n",
    "finally:\n",
    "    if (connection):\n",
    "        cursor.close()\n",
    "        connection.close()\n",
    "        print(\"PostgreSQL connection is closed\")\n"
   ]
  },
  {
   "cell_type": "code",
   "execution_count": 22,
   "metadata": {},
   "outputs": [],
   "source": [
    "import psycopg2\n",
    "from psycopg2 import Error"
   ]
  },
  {
   "cell_type": "code",
   "execution_count": 25,
   "metadata": {},
   "outputs": [
    {
     "name": "stdout",
     "output_type": "stream",
     "text": [
      "Table created successfully in PostgreSQL \n",
      "PostgreSQL connection is closed\n"
     ]
    }
   ],
   "source": [
    "\n",
    "try:\n",
    "    connection = psycopg2.connect(user=\"postgres\",\n",
    "                                  password=\"SIAdb173\",\n",
    "                                  host=\"localhost\",\n",
    "                                  port=\"5432\",\n",
    "                                  database=\"teste\")\n",
    "\n",
    "    cursor = connection.cursor()\n",
    "    # SQL query to create a new table\n",
    "    create_table_query = '''CREATE TABLE mobile\n",
    "          (ID INT PRIMARY KEY     NOT NULL,\n",
    "          MODEL           TEXT    NOT NULL,\n",
    "          PRICE         REAL); '''\n",
    "    # Execute a command: this creates a new table\n",
    "    cursor.execute(create_table_query)\n",
    "    connection.commit()\n",
    "    print(\"Table created successfully in PostgreSQL \")\n",
    "\n",
    "except (Exception, Error) as error:\n",
    "    print(\"Error while connecting to PostgreSQL\", error)\n",
    "finally:\n",
    "    if connection:\n",
    "        cursor.close()\n",
    "        connection.close()\n",
    "        print(\"PostgreSQL connection is closed\")"
   ]
  },
  {
   "cell_type": "code",
   "execution_count": 27,
   "metadata": {},
   "outputs": [
    {
     "name": "stdout",
     "output_type": "stream",
     "text": [
      "1 Record inserted successfully\n",
      "Result  [(1, 'Iphone12', 1100.0)]\n",
      "1 Record updated successfully \n",
      "Result  [(1, 'Iphone12', 1500.0)]\n",
      "1 Record deleted successfully \n",
      "Result  []\n",
      "PostgreSQL connection is closed\n"
     ]
    }
   ],
   "source": [
    "import psycopg2\n",
    "\n",
    "try:\n",
    "    connection = psycopg2.connect(user=\"postgres\",\n",
    "                                  password=\"SIAdb173\",\n",
    "                                  host=\"localhost\",\n",
    "                                  port=\"5432\",\n",
    "                                  database=\"teste\")\n",
    "\n",
    "    cursor = connection.cursor()\n",
    "    # Executing a SQL query to insert data into  table\n",
    "    insert_query = \"\"\" INSERT INTO mobile (ID, MODEL, PRICE) VALUES (1, 'Iphone12', 1100)\"\"\"\n",
    "    cursor.execute(insert_query)\n",
    "    connection.commit()\n",
    "    print(\"1 Record inserted successfully\")\n",
    "    # Fetch result\n",
    "    cursor.execute(\"SELECT * from mobile\")\n",
    "    record = cursor.fetchall()\n",
    "    print(\"Result \", record)\n",
    "\n",
    "    # Executing a SQL query to update table\n",
    "    update_query = \"\"\"Update mobile set price = 1500 where id = 1\"\"\"\n",
    "    cursor.execute(update_query)\n",
    "    connection.commit()\n",
    "    count = cursor.rowcount\n",
    "    print(count, \"Record updated successfully \")\n",
    "    # Fetch result\n",
    "    cursor.execute(\"SELECT * from mobile\")\n",
    "    print(\"Result \", cursor.fetchall())\n",
    "\n",
    "    # Executing a SQL query to delete table\n",
    "    delete_query = \"\"\"Delete from mobile where id = 1\"\"\"\n",
    "    cursor.execute(delete_query)\n",
    "    connection.commit()\n",
    "    count = cursor.rowcount\n",
    "    print(count, \"Record deleted successfully \")\n",
    "    # Fetch result\n",
    "    cursor.execute(\"SELECT * from mobile\")\n",
    "    print(\"Result \", cursor.fetchall())\n",
    "\n",
    "\n",
    "except (Exception, psycopg2.Error) as error:\n",
    "    print(\"Error while connecting to PostgreSQL\", error)\n",
    "finally:\n",
    "    if connection:\n",
    "        cursor.close()\n",
    "        connection.close()\n",
    "        print(\"PostgreSQL connection is closed\")\n"
   ]
  },
  {
   "cell_type": "code",
   "execution_count": null,
   "metadata": {},
   "outputs": [],
   "source": [
    "#A parte de cima foi testada=== embaixo nao"
   ]
  },
  {
   "cell_type": "code",
   "execution_count": 1,
   "metadata": {},
   "outputs": [
    {
     "name": "stdout",
     "output_type": "stream",
     "text": [
      "Collecting py-postgresql\n",
      "  Downloading py-postgresql-1.2.2.tar.gz (272 kB)\n",
      "Building wheels for collected packages: py-postgresql\n",
      "  Building wheel for py-postgresql (setup.py): started\n",
      "  Building wheel for py-postgresql (setup.py): finished with status 'done'\n",
      "  Created wheel for py-postgresql: filename=py_postgresql-1.2.2-cp38-cp38-win_amd64.whl size=237604 sha256=9d0fa562a01103f69f0e67d29e676a7a25c6c2c2c0a2344da18b76ab4467bf67\n",
      "  Stored in directory: c:\\users\\lmoraes\\appdata\\local\\pip\\cache\\wheels\\3f\\d2\\7d\\6cc27f7f83828e03386bff36ae37c84d941cd4b0e84d71405b\n",
      "Successfully built py-postgresql\n",
      "Installing collected packages: py-postgresql\n",
      "Successfully installed py-postgresql-1.2.2\n",
      "Note: you may need to restart the kernel to use updated packages.\n"
     ]
    }
   ],
   "source": [
    "#pip install py-postgresql\n"
   ]
  },
  {
   "cell_type": "code",
   "execution_count": 5,
   "metadata": {},
   "outputs": [],
   "source": [
    "import postgresql\n",
    "import PgSQL\n"
   ]
  },
  {
   "cell_type": "code",
   "execution_count": 6,
   "metadata": {},
   "outputs": [
    {
     "ename": "ClientCannotConnectError",
     "evalue": "could not establish connection to server\r\n  CODE: 08001\r\n  LOCATION: CLIENT\r\nCONNECTION: [failed]\r\n  failures[0]:\r\n    NOSSL socket('::1', 5432)\r\n    postgresql.exceptions.AuthenticationMethodError: unsupported authentication request '<unknown>'(10)\r\n      CODE: --AUT\r\n      LOCATION: CLIENT\r\n      HINT: 'postgresql.protocol' only supports: MD5, crypt, plaintext, and trust.\r\n  failures[1]:\r\n    NOSSL socket('127.0.0.1', 5432)\r\n    postgresql.exceptions.AuthenticationMethodError: unsupported authentication request '<unknown>'(10)\r\n      CODE: --AUT\r\n      LOCATION: CLIENT\r\n      HINT: 'postgresql.protocol' only supports: MD5, crypt, plaintext, and trust.\r\nCONNECTOR: [Host] pq://postgres:***@localhost:5432/teste\r\n  category: None\r\nDRIVER: postgresql.driver.pq3.Driver",
     "output_type": "error",
     "traceback": [
      "\u001b[1;31m---------------------------------------------------------------------------\u001b[0m",
      "\u001b[1;31mClientCannotConnectError\u001b[0m                  Traceback (most recent call last)",
      "\u001b[1;32m<ipython-input-6-82ad7f2d0e04>\u001b[0m in \u001b[0;36m<module>\u001b[1;34m\u001b[0m\n\u001b[1;32m----> 1\u001b[1;33m \u001b[0mdb\u001b[0m \u001b[1;33m=\u001b[0m \u001b[0mpostgresql\u001b[0m\u001b[1;33m.\u001b[0m\u001b[0mopen\u001b[0m\u001b[1;33m(\u001b[0m\u001b[0muser\u001b[0m \u001b[1;33m=\u001b[0m \u001b[1;34m'postgres'\u001b[0m\u001b[1;33m,\u001b[0m \u001b[0mdatabase\u001b[0m \u001b[1;33m=\u001b[0m \u001b[1;34m'teste'\u001b[0m\u001b[1;33m,\u001b[0m \u001b[0mport\u001b[0m \u001b[1;33m=\u001b[0m \u001b[1;36m5432\u001b[0m\u001b[1;33m,\u001b[0m \u001b[0mpassword\u001b[0m \u001b[1;33m=\u001b[0m \u001b[1;34m'postgres@!#'\u001b[0m\u001b[1;33m)\u001b[0m\u001b[1;33m\u001b[0m\u001b[1;33m\u001b[0m\u001b[0m\n\u001b[0m",
      "\u001b[1;32m~\\Anaconda3\\lib\\site-packages\\postgresql\\__init__.py\u001b[0m in \u001b[0;36mopen\u001b[1;34m(iri, prompt_title, **kw)\u001b[0m\n\u001b[0;32m     90\u001b[0m         \u001b[1;32melse\u001b[0m\u001b[1;33m:\u001b[0m\u001b[1;33m\u001b[0m\u001b[1;33m\u001b[0m\u001b[0m\n\u001b[0;32m     91\u001b[0m                 \u001b[0mc\u001b[0m \u001b[1;33m=\u001b[0m \u001b[0mC\u001b[0m\u001b[1;33m(\u001b[0m\u001b[1;33m)\u001b[0m\u001b[1;33m\u001b[0m\u001b[1;33m\u001b[0m\u001b[0m\n\u001b[1;32m---> 92\u001b[1;33m                 \u001b[0mc\u001b[0m\u001b[1;33m.\u001b[0m\u001b[0mconnect\u001b[0m\u001b[1;33m(\u001b[0m\u001b[1;33m)\u001b[0m\u001b[1;33m\u001b[0m\u001b[1;33m\u001b[0m\u001b[0m\n\u001b[0m\u001b[0;32m     93\u001b[0m                 \u001b[1;32mreturn\u001b[0m \u001b[0mc\u001b[0m\u001b[1;33m\u001b[0m\u001b[1;33m\u001b[0m\u001b[0m\n\u001b[0;32m     94\u001b[0m \u001b[1;33m\u001b[0m\u001b[0m\n",
      "\u001b[1;32m~\\Anaconda3\\lib\\site-packages\\postgresql\\driver\\pq3.py\u001b[0m in \u001b[0;36mconnect\u001b[1;34m(self)\u001b[0m\n\u001b[0;32m   2425\u001b[0m                 \u001b[1;31m# It's closed.\u001b[0m\u001b[1;33m\u001b[0m\u001b[1;33m\u001b[0m\u001b[1;33m\u001b[0m\u001b[0m\n\u001b[0;32m   2426\u001b[0m                 \u001b[1;32mtry\u001b[0m\u001b[1;33m:\u001b[0m\u001b[1;33m\u001b[0m\u001b[1;33m\u001b[0m\u001b[0m\n\u001b[1;32m-> 2427\u001b[1;33m                         \u001b[0mself\u001b[0m\u001b[1;33m.\u001b[0m\u001b[0m_establish\u001b[0m\u001b[1;33m(\u001b[0m\u001b[1;33m)\u001b[0m\u001b[1;33m\u001b[0m\u001b[1;33m\u001b[0m\u001b[0m\n\u001b[0m\u001b[0;32m   2428\u001b[0m                 \u001b[1;32mexcept\u001b[0m \u001b[0mException\u001b[0m\u001b[1;33m:\u001b[0m\u001b[1;33m\u001b[0m\u001b[1;33m\u001b[0m\u001b[0m\n\u001b[0;32m   2429\u001b[0m                         \u001b[1;31m# Close it up on failure.\u001b[0m\u001b[1;33m\u001b[0m\u001b[1;33m\u001b[0m\u001b[1;33m\u001b[0m\u001b[0m\n",
      "\u001b[1;32m~\\Anaconda3\\lib\\site-packages\\postgresql\\driver\\pq3.py\u001b[0m in \u001b[0;36m_establish\u001b[1;34m(self)\u001b[0m\n\u001b[0;32m   2551\u001b[0m                         \u001b[0mself\u001b[0m\u001b[1;33m.\u001b[0m\u001b[0mfailures\u001b[0m \u001b[1;33m=\u001b[0m \u001b[0mfailures\u001b[0m \u001b[1;32mor\u001b[0m \u001b[1;33m(\u001b[0m\u001b[1;33m)\u001b[0m\u001b[1;33m\u001b[0m\u001b[1;33m\u001b[0m\u001b[0m\n\u001b[0;32m   2552\u001b[0m                         \u001b[1;31m# it's over.\u001b[0m\u001b[1;33m\u001b[0m\u001b[1;33m\u001b[0m\u001b[1;33m\u001b[0m\u001b[0m\n\u001b[1;32m-> 2553\u001b[1;33m                         \u001b[0mself\u001b[0m\u001b[1;33m.\u001b[0m\u001b[0mtypio\u001b[0m\u001b[1;33m.\u001b[0m\u001b[0mraise_client_error\u001b[0m\u001b[1;33m(\u001b[0m\u001b[0mcould_not_connect\u001b[0m\u001b[1;33m,\u001b[0m \u001b[0mcreator\u001b[0m \u001b[1;33m=\u001b[0m \u001b[0mself\u001b[0m\u001b[1;33m,\u001b[0m \u001b[0mcause\u001b[0m \u001b[1;33m=\u001b[0m \u001b[0mexc\u001b[0m\u001b[1;33m)\u001b[0m\u001b[1;33m\u001b[0m\u001b[1;33m\u001b[0m\u001b[0m\n\u001b[0m\u001b[0;32m   2554\u001b[0m                 \u001b[1;31m##\u001b[0m\u001b[1;33m\u001b[0m\u001b[1;33m\u001b[0m\u001b[1;33m\u001b[0m\u001b[0m\n\u001b[0;32m   2555\u001b[0m                 \u001b[1;31m# connected, now initialize connection information.\u001b[0m\u001b[1;33m\u001b[0m\u001b[1;33m\u001b[0m\u001b[1;33m\u001b[0m\u001b[0m\n",
      "\u001b[1;32m~\\Anaconda3\\lib\\site-packages\\postgresql\\driver\\pq3.py\u001b[0m in \u001b[0;36mraise_client_error\u001b[1;34m(self, error_message, cause, creator)\u001b[0m\n\u001b[0;32m    512\u001b[0m                         \u001b[1;32mraise\u001b[0m \u001b[0mclient_error\u001b[0m \u001b[1;32mfrom\u001b[0m \u001b[0mcause\u001b[0m\u001b[1;33m\u001b[0m\u001b[1;33m\u001b[0m\u001b[0m\n\u001b[0;32m    513\u001b[0m                 \u001b[1;32melse\u001b[0m\u001b[1;33m:\u001b[0m\u001b[1;33m\u001b[0m\u001b[1;33m\u001b[0m\u001b[0m\n\u001b[1;32m--> 514\u001b[1;33m                         \u001b[1;32mraise\u001b[0m \u001b[0mclient_error\u001b[0m\u001b[1;33m\u001b[0m\u001b[1;33m\u001b[0m\u001b[0m\n\u001b[0m\u001b[0;32m    515\u001b[0m \u001b[1;33m\u001b[0m\u001b[0m\n\u001b[0;32m    516\u001b[0m         \u001b[1;32mdef\u001b[0m \u001b[0mlookup_exception\u001b[0m\u001b[1;33m(\u001b[0m\u001b[0mself\u001b[0m\u001b[1;33m,\u001b[0m \u001b[0mcode\u001b[0m\u001b[1;33m,\u001b[0m \u001b[0merrorlookup\u001b[0m \u001b[1;33m=\u001b[0m \u001b[0mpg_exc\u001b[0m\u001b[1;33m.\u001b[0m\u001b[0mErrorLookup\u001b[0m\u001b[1;33m,\u001b[0m\u001b[1;33m)\u001b[0m\u001b[1;33m:\u001b[0m\u001b[1;33m\u001b[0m\u001b[1;33m\u001b[0m\u001b[0m\n",
      "\u001b[1;31mClientCannotConnectError\u001b[0m: could not establish connection to server\r\n  CODE: 08001\r\n  LOCATION: CLIENT\r\nCONNECTION: [failed]\r\n  failures[0]:\r\n    NOSSL socket('::1', 5432)\r\n    postgresql.exceptions.AuthenticationMethodError: unsupported authentication request '<unknown>'(10)\r\n      CODE: --AUT\r\n      LOCATION: CLIENT\r\n      HINT: 'postgresql.protocol' only supports: MD5, crypt, plaintext, and trust.\r\n  failures[1]:\r\n    NOSSL socket('127.0.0.1', 5432)\r\n    postgresql.exceptions.AuthenticationMethodError: unsupported authentication request '<unknown>'(10)\r\n      CODE: --AUT\r\n      LOCATION: CLIENT\r\n      HINT: 'postgresql.protocol' only supports: MD5, crypt, plaintext, and trust.\r\nCONNECTOR: [Host] pq://postgres:***@localhost:5432/teste\r\n  category: None\r\nDRIVER: postgresql.driver.pq3.Driver"
     ]
    }
   ],
   "source": [
    "#db = postgresql.open(user = 'postgres', database = 'teste', port = 5432, password = 'postgres@!#')\n",
    "#db = pgSQL\n",
    ".open(user = 'postgres', database = 'teste', port = 5432, password = 'postgres@!#')\n"
   ]
  },
  {
   "cell_type": "code",
   "execution_count": null,
   "metadata": {},
   "outputs": [],
   "source": []
  },
  {
   "cell_type": "code",
   "execution_count": null,
   "metadata": {},
   "outputs": [],
   "source": [
    "db.execute(\"CREATE TABLE tb_user (ds_user varchar(20) PRIMARY KEY, ds_passwd text)\")\n"
   ]
  },
  {
   "cell_type": "code",
   "execution_count": null,
   "metadata": {},
   "outputs": [],
   "source": [
    "make_tb_user = db.prepare(\"INSERT INTO tb_user VALUES ($1, $2)\")\n",
    "raise_tb_user = db.prepare(\"UPDATE tb_user SET ds_passwd = 'new_password' WHERE ds_user = $1\")\n",
    "select_tb_user = db.prepare(\"SELECT ds_user FROM tb_user\")\n",
    "\n"
   ]
  },
  {
   "cell_type": "code",
   "execution_count": null,
   "metadata": {},
   "outputs": [],
   "source": [
    "with db.xact():\n",
    "\tmake_tb_user(\"avelino\", \"thiago\")\n",
    "\tmake_tb_user(\"thiago\", \"avelino\")\n",
    "\tmake_tb_user(\"python\", \"postgresql\")"
   ]
  },
  {
   "cell_type": "code",
   "execution_count": null,
   "metadata": {},
   "outputs": [],
   "source": [
    "with db.xact():\n",
    "\tfor row in select_tb_user():\n",
    "\t\tprint(row[\"ds_user\"])"
   ]
  },
  {
   "cell_type": "code",
   "execution_count": null,
   "metadata": {},
   "outputs": [],
   "source": [
    "raise_tb_user(row[\"ds_user\"], \"avelino\")"
   ]
  }
 ],
 "metadata": {
  "kernelspec": {
   "display_name": "Python 3",
   "language": "python",
   "name": "python3"
  },
  "language_info": {
   "codemirror_mode": {
    "name": "ipython",
    "version": 3
   },
   "file_extension": ".py",
   "mimetype": "text/x-python",
   "name": "python",
   "nbconvert_exporter": "python",
   "pygments_lexer": "ipython3",
   "version": "3.8.5"
  }
 },
 "nbformat": 4,
 "nbformat_minor": 4
}
