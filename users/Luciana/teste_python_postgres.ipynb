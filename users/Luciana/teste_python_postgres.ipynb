{
 "cells": [
  {
   "cell_type": "code",
   "execution_count": 8,
   "metadata": {},
   "outputs": [
    {
     "name": "stdout",
     "output_type": "stream",
     "text": [
      "Requirement already satisfied: psycopg2 in c:\\users\\lmoraes\\anaconda3\\lib\\site-packages (2.9.1)\n",
      "Note: you may need to restart the kernel to use updated packages.\n"
     ]
    }
   ],
   "source": [
    " #pip install psycopg2"
   ]
  },
  {
   "cell_type": "code",
   "execution_count": null,
   "metadata": {},
   "outputs": [],
   "source": [
    "# artigo\n",
    "#https://pynative.com/python-postgresql-tutorial/#h-python-example-to-connect-postgresql-database"
   ]
  },
  {
   "cell_type": "code",
   "execution_count": 19,
   "metadata": {},
   "outputs": [],
   "source": [
    "import psycopg2\n",
    "from psycopg2 import Error"
   ]
  },
  {
   "cell_type": "code",
   "execution_count": 20,
   "metadata": {},
   "outputs": [
    {
     "name": "stdout",
     "output_type": "stream",
     "text": [
      "PostgreSQL server information\n",
      "{'user': 'postgres', 'channel_binding': 'prefer', 'dbname': 'teste', 'host': 'localhost', 'port': '5432', 'tty': '', 'options': '', 'sslmode': 'prefer', 'sslcompression': '0', 'ssl_min_protocol_version': 'TLSv1.2', 'gssencmode': 'disable', 'krbsrvname': 'postgres', 'target_session_attrs': 'any'} \n",
      "\n",
      "Error while connecting to PostgreSQL syntax error at or near \"'Livro'\"\n",
      "LINE 1: SELECT codigo, nome, tipo FROM public.'Livro';\n",
      "                                              ^\n",
      "\n",
      "PostgreSQL connection is closed\n"
     ]
    }
   ],
   "source": [
    "try:\n",
    "    # Connect to an existing database\n",
    "    connection = psycopg2.connect(user=\"postgres\",\n",
    "                                  password=\"SIAdb173\",\n",
    "                                  host=\"localhost\",\n",
    "                                  port=\"5432\",\n",
    "                                  database=\"teste\")\n",
    "\n",
    "    # Create a cursor to perform database operations\n",
    "    cursor = connection.cursor()\n",
    "    # Print PostgreSQL details\n",
    "    print(\"PostgreSQL server information\")\n",
    "    print(connection.get_dsn_parameters(), \"\\n\")\n",
    "    # Executing a SQL query\n",
    "    cursor.execute(\"SELECT version();\")\n",
    "    # Fetch result\n",
    "    record = cursor.fetchone()\n",
    "    print(\"You are connected to - \", record, \"\\n\")\n",
    "\n",
    "except (Exception, Error) as error:\n",
    "    print(\"Error while connecting to PostgreSQL\", error)\n",
    "finally:\n",
    "    if (connection):\n",
    "        cursor.close()\n",
    "        connection.close()\n",
    "        print(\"PostgreSQL connection is closed\")\n"
   ]
  },
  {
   "cell_type": "code",
   "execution_count": 22,
   "metadata": {},
   "outputs": [],
   "source": [
    "import psycopg2\n",
    "from psycopg2 import Error"
   ]
  },
  {
   "cell_type": "code",
   "execution_count": 25,
   "metadata": {},
   "outputs": [
    {
     "name": "stdout",
     "output_type": "stream",
     "text": [
      "Table created successfully in PostgreSQL \n",
      "PostgreSQL connection is closed\n"
     ]
    }
   ],
   "source": [
    "\n",
    "try:\n",
    "    connection = psycopg2.connect(user=\"postgres\",\n",
    "                                  password=\"SIAdb173\",\n",
    "                                  host=\"localhost\",\n",
    "                                  port=\"5432\",\n",
    "                                  database=\"teste\")\n",
    "\n",
    "    cursor = connection.cursor()\n",
    "    # SQL query to create a new table\n",
    "    create_table_query = '''CREATE TABLE mobile\n",
    "          (ID INT PRIMARY KEY     NOT NULL,\n",
    "          MODEL           TEXT    NOT NULL,\n",
    "          PRICE         REAL); '''\n",
    "    # Execute a command: this creates a new table\n",
    "    cursor.execute(create_table_query)\n",
    "    connection.commit()\n",
    "    print(\"Table created successfully in PostgreSQL \")\n",
    "\n",
    "except (Exception, Error) as error:\n",
    "    print(\"Error while connecting to PostgreSQL\", error)\n",
    "finally:\n",
    "    if connection:\n",
    "        cursor.close()\n",
    "        connection.close()\n",
    "        print(\"PostgreSQL connection is closed\")"
   ]
  },
  {
   "cell_type": "code",
   "execution_count": 27,
   "metadata": {},
   "outputs": [
    {
     "name": "stdout",
     "output_type": "stream",
     "text": [
      "1 Record inserted successfully\n",
      "Result  [(1, 'Iphone12', 1100.0)]\n",
      "1 Record updated successfully \n",
      "Result  [(1, 'Iphone12', 1500.0)]\n",
      "1 Record deleted successfully \n",
      "Result  []\n",
      "PostgreSQL connection is closed\n"
     ]
    }
   ],
   "source": [
    "import psycopg2\n",
    "\n",
    "try:\n",
    "    connection = psycopg2.connect(user=\"postgres\",\n",
    "                                  password=\"SIAdb173\",\n",
    "                                  host=\"localhost\",\n",
    "                                  port=\"5432\",\n",
    "                                  database=\"teste\")\n",
    "\n",
    "    cursor = connection.cursor()\n",
    "    # Executing a SQL query to insert data into  table\n",
    "    insert_query = \"\"\" INSERT INTO mobile (ID, MODEL, PRICE) VALUES (1, 'Iphone12', 1100)\"\"\"\n",
    "    cursor.execute(insert_query)\n",
    "    connection.commit()\n",
    "    print(\"1 Record inserted successfully\")\n",
    "    # Fetch result\n",
    "    cursor.execute(\"SELECT * from mobile\")\n",
    "    record = cursor.fetchall()\n",
    "    print(\"Result \", record)\n",
    "\n",
    "    # Executing a SQL query to update table\n",
    "    update_query = \"\"\"Update mobile set price = 1500 where id = 1\"\"\"\n",
    "    cursor.execute(update_query)\n",
    "    connection.commit()\n",
    "    count = cursor.rowcount\n",
    "    print(count, \"Record updated successfully \")\n",
    "    # Fetch result\n",
    "    cursor.execute(\"SELECT * from mobile\")\n",
    "    print(\"Result \", cursor.fetchall())\n",
    "\n",
    "    # Executing a SQL query to delete table\n",
    "    delete_query = \"\"\"Delete from mobile where id = 1\"\"\"\n",
    "    cursor.execute(delete_query)\n",
    "    connection.commit()\n",
    "    count = cursor.rowcount\n",
    "    print(count, \"Record deleted successfully \")\n",
    "    # Fetch result\n",
    "    cursor.execute(\"SELECT * from mobile\")\n",
    "    print(\"Result \", cursor.fetchall())\n",
    "\n",
    "\n",
    "except (Exception, psycopg2.Error) as error:\n",
    "    print(\"Error while connecting to PostgreSQL\", error)\n",
    "finally:\n",
    "    if connection:\n",
    "        cursor.close()\n",
    "        connection.close()\n",
    "        print(\"PostgreSQL connection is closed\")\n"
   ]
  },
  {
   "cell_type": "code",
   "execution_count": null,
   "metadata": {},
   "outputs": [],
   "source": []
  },
  {
   "cell_type": "code",
   "execution_count": null,
   "metadata": {},
   "outputs": [],
   "source": [
    "\n"
   ]
  },
  {
   "cell_type": "code",
   "execution_count": null,
   "metadata": {},
   "outputs": [],
   "source": [
    "\n"
   ]
  },
  {
   "cell_type": "code",
   "execution_count": null,
   "metadata": {},
   "outputs": [],
   "source": []
  },
  {
   "cell_type": "code",
   "execution_count": null,
   "metadata": {},
   "outputs": [],
   "source": []
  },
  {
   "cell_type": "code",
   "execution_count": null,
   "metadata": {},
   "outputs": [],
   "source": [
    "\n"
   ]
  },
  {
   "cell_type": "code",
   "execution_count": null,
   "metadata": {},
   "outputs": [],
   "source": [
    "\n",
    "\n"
   ]
  },
  {
   "cell_type": "code",
   "execution_count": null,
   "metadata": {},
   "outputs": [],
   "source": []
  },
  {
   "cell_type": "code",
   "execution_count": null,
   "metadata": {},
   "outputs": [],
   "source": []
  },
  {
   "cell_type": "code",
   "execution_count": null,
   "metadata": {},
   "outputs": [],
   "source": []
  }
 ],
 "metadata": {
  "kernelspec": {
   "display_name": "Python 3",
   "language": "python",
   "name": "python3"
  },
  "language_info": {
   "codemirror_mode": {
    "name": "ipython",
    "version": 3
   },
   "file_extension": ".py",
   "mimetype": "text/x-python",
   "name": "python",
   "nbconvert_exporter": "python",
   "pygments_lexer": "ipython3",
   "version": "3.8.5"
  }
 },
 "nbformat": 4,
 "nbformat_minor": 4
}
